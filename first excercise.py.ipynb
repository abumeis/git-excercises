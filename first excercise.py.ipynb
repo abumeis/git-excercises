{
 "cells": [
  {
   "cell_type": "code",
   "execution_count": 13,
   "metadata": {},
   "outputs": [
    {
     "name": "stdout",
     "output_type": "stream",
     "text": [
      "i feel empty\n"
     ]
    }
   ],
   "source": [
    "### 1. Create a variable named x equal to a string (write what you want) and then print it\n",
    "x = (\"i feel empty\")\n",
    "print(x)"
   ]
  },
  {
   "cell_type": "code",
   "execution_count": 14,
   "metadata": {},
   "outputs": [
    {
     "name": "stdout",
     "output_type": "stream",
     "text": [
      "i'm saying i feel empty\n"
     ]
    }
   ],
   "source": [
    "### 2. Create a variable named b that is equal to x (the variable created above), and then print \"I'm saying: \" + variable b\n",
    "b = x \n",
    "print(\"i'm saying \" + b)"
   ]
  },
  {
   "cell_type": "code",
   "execution_count": 21,
   "metadata": {},
   "outputs": [],
   "source": [
    "### 3. Write a python program that ask the user for their name and height, and then print a sentence containing both details"
   ]
  },
  {
   "cell_type": "code",
   "execution_count": 15,
   "metadata": {},
   "outputs": [
    {
     "name": "stdout",
     "output_type": "stream",
     "text": [
      "what's your name ??\n",
      "ahmed\n"
     ]
    }
   ],
   "source": [
    "a = input()\n",
    "print (\"ahmed\")"
   ]
  },
  {
   "cell_type": "code",
   "execution_count": 13,
   "metadata": {},
   "outputs": [
    {
     "name": "stdout",
     "output_type": "stream",
     "text": [
      "what's your height ?\n",
      "1m80\n"
     ]
    }
   ],
   "source": [
    "c = input()\n",
    "print(\"1m80\")"
   ]
  },
  {
   "cell_type": "code",
   "execution_count": 17,
   "metadata": {},
   "outputs": [],
   "source": [
    "### 4. Write a Hello-World program that prints \"Hello world\" and then asks the user to respond by asking \"How would you like to respond?\". Once the user responds, have the program print the user's answer."
   ]
  },
  {
   "cell_type": "code",
   "execution_count": 16,
   "metadata": {},
   "outputs": [
    {
     "name": "stdout",
     "output_type": "stream",
     "text": [
      "hello world\n",
      "what would like to respond ?? hello back \n",
      "hello back \n"
     ]
    }
   ],
   "source": [
    "print (\"hello world\")\n",
    "j = input(\"what would like to respond ?? \")\n",
    "print(j)"
   ]
  },
  {
   "cell_type": "code",
   "execution_count": 17,
   "metadata": {},
   "outputs": [
    {
     "name": "stdout",
     "output_type": "stream",
     "text": [
      "hello back \n"
     ]
    }
   ],
   "source": [
    "print(j)"
   ]
  },
  {
   "cell_type": "markdown",
   "metadata": {},
   "source": [
    "### 6.What is the type of each one? Write it in a comment next to the variables."
   ]
  },
  {
   "cell_type": "code",
   "execution_count": 5,
   "metadata": {},
   "outputs": [
    {
     "name": "stdout",
     "output_type": "stream",
     "text": [
      "a is an integers\n"
     ]
    }
   ],
   "source": [
    "a = 5 \n",
    "print(\"a is an integers\")"
   ]
  },
  {
   "cell_type": "code",
   "execution_count": 6,
   "metadata": {},
   "outputs": [
    {
     "name": "stdout",
     "output_type": "stream",
     "text": [
      "b is a string\n"
     ]
    }
   ],
   "source": [
    "b = \"GitHub\"\n",
    "print(\"b is a string\")"
   ]
  },
  {
   "cell_type": "code",
   "execution_count": 7,
   "metadata": {},
   "outputs": [
    {
     "name": "stdout",
     "output_type": "stream",
     "text": [
      "c is a float\n"
     ]
    }
   ],
   "source": [
    "c = 7.5\n",
    "print (\"c is a float\")"
   ]
  },
  {
   "cell_type": "code",
   "execution_count": 9,
   "metadata": {},
   "outputs": [
    {
     "name": "stdout",
     "output_type": "stream",
     "text": [
      "d is a string too\n"
     ]
    }
   ],
   "source": [
    "d = \"j\"\n",
    "print(\"d is a string too\"e = -10)"
   ]
  },
  {
   "cell_type": "code",
   "execution_count": 10,
   "metadata": {},
   "outputs": [
    {
     "name": "stdout",
     "output_type": "stream",
     "text": [
      "e is an int too\n"
     ]
    }
   ],
   "source": [
    "e = -10\n",
    "print(\"e is an int too\")"
   ]
  },
  {
   "cell_type": "code",
   "execution_count": 12,
   "metadata": {},
   "outputs": [
    {
     "name": "stdout",
     "output_type": "stream",
     "text": [
      "f is a float too\n"
     ]
    }
   ],
   "source": [
    "f = -10.0\n",
    "print (\"f is a float too\")"
   ]
  },
  {
   "cell_type": "code",
   "execution_count": 18,
   "metadata": {},
   "outputs": [
    {
     "name": "stdout",
     "output_type": "stream",
     "text": [
      "g is a tuple\n"
     ]
    }
   ],
   "source": [
    "g = ('GitHub', 10, 'j', 25.4)\n",
    "print (\"g is a tuple\")"
   ]
  },
  {
   "cell_type": "code",
   "execution_count": 19,
   "metadata": {},
   "outputs": [
    {
     "name": "stdout",
     "output_type": "stream",
     "text": [
      "h is a list\n"
     ]
    }
   ],
   "source": [
    "h = ['GitHub', 10, 'j', 25.4]\n",
    "print(\"h is a list\")"
   ]
  },
  {
   "cell_type": "code",
   "execution_count": 20,
   "metadata": {},
   "outputs": [
    {
     "name": "stdout",
     "output_type": "stream",
     "text": [
      "i is a dictionary\n"
     ]
    }
   ],
   "source": [
    "i = {'GitHub' : 10, 'j' : 25.4, 'john' : 'help', 100.0 : 34}\n",
    "print(\"i is a dictionary\")"
   ]
  },
  {
   "cell_type": "code",
   "execution_count": null,
   "metadata": {},
   "outputs": [],
   "source": [
    "### 7. Create an if-statement that tests if a variable, x, is even. It should print the string \"That's true, x is even!\" if x is even, and \"Sorry, it looks like x is odd. Try again!\" otherwise. Notice that you will have to declare the variable x first for the script to work"
   ]
  },
  {
   "cell_type": "code",
   "execution_count": 4,
   "metadata": {},
   "outputs": [
    {
     "name": "stdout",
     "output_type": "stream",
     "text": [
      "That's true, x is even\n",
      "6\n",
      "x is even\n"
     ]
    }
   ],
   "source": [
    "x = 6\n",
    "\n",
    "if x :\n",
    "    print(\"That's true, x is even\")\n",
    "else:\n",
    "    print(\"Sorry, it looks like x is odd\")\n",
    "    \n",
    "### Other way\n",
    "\n",
    "x = int(input()); y = 2;\n",
    "\n",
    "if x :\n",
    "\n",
    "    X = x / y ; print(\"x is even\")\n",
    "\n",
    "else :\n",
    "\n",
    "    x = x / y\n",
    "\n",
    "    print(\"x is odd\")"
   ]
  },
  {
   "cell_type": "code",
   "execution_count": 45,
   "metadata": {},
   "outputs": [
    {
     "name": "stdout",
     "output_type": "stream",
     "text": [
      "git --version\n"
     ]
    }
   ],
   "source": [
    "### (a)What is the command that will return the git version you are using?\n",
    "a = (\"git --version\")\n",
    "print(a)"
   ]
  },
  {
   "cell_type": "code",
   "execution_count": 46,
   "metadata": {},
   "outputs": [
    {
     "name": "stdout",
     "output_type": "stream",
     "text": [
      "change dirctly cd\n"
     ]
    }
   ],
   "source": [
    "### (b) What is the command line for changing the current folder/directory?\n",
    "b = (\"change dirctly cd\")\n",
    "print(b)"
   ]
  },
  {
   "cell_type": "code",
   "execution_count": 47,
   "metadata": {},
   "outputs": [
    {
     "name": "stdout",
     "output_type": "stream",
     "text": [
      "ls\n"
     ]
    }
   ],
   "source": [
    "### (c) What is the command line for listing the contents of the current folder/directory?\n",
    "c = (\"ls\")\n",
    "print(c)\n"
   ]
  },
  {
   "cell_type": "code",
   "execution_count": 48,
   "metadata": {},
   "outputs": [
    {
     "name": "stdout",
     "output_type": "stream",
     "text": [
      "mkdir\n"
     ]
    }
   ],
   "source": [
    "### (d) What is the command line for creating a file?\n",
    "d = (\"mkdir\")\n",
    "print(d)"
   ]
  },
  {
   "cell_type": "code",
   "execution_count": 51,
   "metadata": {},
   "outputs": [
    {
     "name": "stdout",
     "output_type": "stream",
     "text": [
      "touch\n"
     ]
    }
   ],
   "source": [
    "### (i) What is the command line for creating a new folder/directory?\n",
    "i= (\"touch\")\n",
    "print(f)"
   ]
  },
  {
   "cell_type": "code",
   "execution_count": 53,
   "metadata": {},
   "outputs": [
    {
     "name": "stdout",
     "output_type": "stream",
     "text": [
      "rm-r + directory name\n"
     ]
    }
   ],
   "source": [
    "### (f) What is the command line for deleting a folder/directory?\n",
    "f = (\"rm-r + directory name\")  ### put it does'nt work with my get idk why\n",
    "print(f)"
   ]
  },
  {
   "cell_type": "code",
   "execution_count": 55,
   "metadata": {},
   "outputs": [
    {
     "name": "stdout",
     "output_type": "stream",
     "text": [
      "rm\n"
     ]
    }
   ],
   "source": [
    "### (g) What is the command line for deleting a file?\n",
    "g = (\"rm\")\n",
    "print (g)"
   ]
  },
  {
   "cell_type": "code",
   "execution_count": null,
   "metadata": {},
   "outputs": [],
   "source": []
  },
  {
   "cell_type": "code",
   "execution_count": null,
   "metadata": {},
   "outputs": [],
   "source": []
  }
 ],
 "metadata": {
  "kernelspec": {
   "display_name": "Python 3",
   "language": "python",
   "name": "python3"
  },
  "language_info": {
   "codemirror_mode": {
    "name": "ipython",
    "version": 3
   },
   "file_extension": ".py",
   "mimetype": "text/x-python",
   "name": "python",
   "nbconvert_exporter": "python",
   "pygments_lexer": "ipython3",
   "version": "3.6.4"
  }
 },
 "nbformat": 4,
 "nbformat_minor": 2
}
