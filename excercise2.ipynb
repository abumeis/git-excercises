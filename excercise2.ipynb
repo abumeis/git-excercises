{
 "cells": [
  {
   "cell_type": "markdown",
   "metadata": {},
   "source": [
    "                                                 ###If/Else Statements"
   ]
  },
  {
   "cell_type": "markdown",
   "metadata": {},
   "source": [
    "\n",
    "1.Enumerate the 3 possible commands when using if/else statement."
   ]
  },
  {
   "cell_type": "code",
   "execution_count": null,
   "metadata": {},
   "outputs": [],
   "source": [
    "###  if\n",
    "###  elif\n",
    "###  else"
   ]
  },
  {
   "cell_type": "markdown",
   "metadata": {},
   "source": [
    "2.Write a code that print \"Hello World\" if x is smaller than 4 and print \"Goodbye\" otherwise. Remember, you need to define x for your code to work. Try the code for a few different values of x to make sure it works correctly."
   ]
  },
  {
   "cell_type": "code",
   "execution_count": 36,
   "metadata": {},
   "outputs": [
    {
     "name": "stdout",
     "output_type": "stream",
     "text": [
      "3\n",
      "Hello World\n"
     ]
    }
   ],
   "source": [
    "x = int (input ());\n",
    "if x <= 4:\n",
    "    print (\"Hello World\" )\n",
    "else:\n",
    "    print (\"Goodbye\")\n",
    "    "
   ]
  },
  {
   "cell_type": "code",
   "execution_count": 38,
   "metadata": {},
   "outputs": [
    {
     "name": "stdout",
     "output_type": "stream",
     "text": [
      "7\n",
      "Goodbye\n"
     ]
    }
   ],
   "source": [
    "x =int (input ());\n",
    "if x < 4:\n",
    "    print (\"Hello World\")\n",
    "else:\n",
    "    print(\"Goodbye\")"
   ]
  },
  {
   "cell_type": "markdown",
   "metadata": {},
   "source": [
    "3.Assign a variable x to be an integer. Write a code that will print \"One\" if x is 1, \"A couple\" if x is 2, \"Several\" if x is 3, 4, or 5, and print \"Many!\" if x is greater than 5."
   ]
  },
  {
   "cell_type": "code",
   "execution_count": 10,
   "metadata": {},
   "outputs": [
    {
     "name": "stdout",
     "output_type": "stream",
     "text": [
      "4\n",
      "Several\n"
     ]
    }
   ],
   "source": [
    "x = int (input ());\n",
    "if x == 1:\n",
    "    print(\"One\")\n",
    "elif x == 2:\n",
    "    print (\"A couple\")\n",
    "elif x >= 3 and x <=5 : \n",
    "    print  (\"Several\") \n",
    "else: \n",
    "    print(\"Many\")"
   ]
  },
  {
   "cell_type": "markdown",
   "metadata": {},
   "source": [
    "4.Make an int variable called n. Write a code that tell you if that integer is an even or an odd number."
   ]
  },
  {
   "cell_type": "code",
   "execution_count": 56,
   "metadata": {},
   "outputs": [
    {
     "name": "stdout",
     "output_type": "stream",
     "text": [
      "4\n",
      "Even number\n"
     ]
    }
   ],
   "source": [
    "n = int (input ());\n",
    "\n",
    "if n % 2 == 0 : \n",
    "    print ('Even number')\n",
    "else:\n",
    "    print ('Odd number')\n",
    "   "
   ]
  },
  {
   "cell_type": "code",
   "execution_count": 39,
   "metadata": {},
   "outputs": [
    {
     "name": "stdout",
     "output_type": "stream",
     "text": [
      "5\n",
      "Odd number\n"
     ]
    }
   ],
   "source": [
    "n = int (input ());\n",
    "\n",
    "if n % 2 == 0 : \n",
    "    print ('Even number')\n",
    "else:\n",
    "    print ('Odd number')"
   ]
  },
  {
   "cell_type": "markdown",
   "metadata": {},
   "source": [
    "5.Make an int variable n. Write a code that prints the difference between 21 and n, if n is smaller or equal to 21, or that prints two times n if n is over 21."
   ]
  },
  {
   "cell_type": "code",
   "execution_count": 11,
   "metadata": {},
   "outputs": [
    {
     "name": "stdout",
     "output_type": "stream",
     "text": [
      "23\n",
      "46\n"
     ]
    }
   ],
   "source": [
    "n = int (input ());\n",
    "if n <=21 :\n",
    "    print (21-(n))\n",
    "else : \n",
    "    print (2*n)"
   ]
  },
  {
   "cell_type": "code",
   "execution_count": 24,
   "metadata": {},
   "outputs": [
    {
     "name": "stdout",
     "output_type": "stream",
     "text": [
      "23\n",
      "23 23\n"
     ]
    }
   ],
   "source": [
    "n = int (input ());\n",
    "if n <=21 :\n",
    "    print (21-(n))\n",
    "else : \n",
    "    print (n,n)"
   ]
  },
  {
   "cell_type": "markdown",
   "metadata": {},
   "source": [
    "6.Same as code 5) but if n is over 21, print the absolute value of the difference between 21 and n.?"
   ]
  },
  {
   "cell_type": "code",
   "execution_count": 42,
   "metadata": {},
   "outputs": [
    {
     "name": "stdout",
     "output_type": "stream",
     "text": [
      "300\n",
      "-279\n",
      "279\n"
     ]
    }
   ],
   "source": [
    "n = int (input ());\n",
    "if n > 21 :\n",
    "    print (21 - (n) ) ###between the 21 and n\n",
    "    print ((n) - 21)  ###between the n and 21 \n",
    "else : \n",
    "    print (n,n)"
   ]
  },
  {
   "cell_type": "markdown",
   "metadata": {},
   "source": [
    "                                                ###Operators"
   ]
  },
  {
   "cell_type": "markdown",
   "metadata": {},
   "source": [
    "7.What is the symbol for addition? Subtraction? Multiplication"
   ]
  },
  {
   "cell_type": "code",
   "execution_count": 46,
   "metadata": {},
   "outputs": [
    {
     "name": "stdout",
     "output_type": "stream",
     "text": [
      "6\n",
      "8\n",
      "4\n",
      "12\n",
      "6\n"
     ]
    }
   ],
   "source": [
    "x = int(input()); y = 2;\n",
    "print (x + y)\n",
    "print (x - y)\n",
    "print (x * y)\n",
    "print (x)\n"
   ]
  },
  {
   "cell_type": "markdown",
   "metadata": {},
   "source": [
    "8.What is the difference between < and <= ? Between > and >= ? Between = and != ?"
   ]
  },
  {
   "cell_type": "code",
   "execution_count": null,
   "metadata": {},
   "outputs": [],
   "source": [
    "### < strictly less than,<= means less than or equal, > is strictly greater than, >= is greater than or equal,\n",
    "### == means it's equal , and the != it means is not equal\n"
   ]
  },
  {
   "cell_type": "markdown",
   "metadata": {},
   "source": [
    "9.What is the difference between the operator a/b and a%b ? (with a and b two numbers)"
   ]
  },
  {
   "cell_type": "code",
   "execution_count": 11,
   "metadata": {},
   "outputs": [
    {
     "name": "stdout",
     "output_type": "stream",
     "text": [
      "5\n",
      "2\n",
      "2.5\n"
     ]
    }
   ],
   "source": [
    "a = int(input()); b = int(input());\n",
    "print (a / b) ### / is quotient of x and y, This is floor division operator\n"
   ]
  },
  {
   "cell_type": "code",
   "execution_count": 16,
   "metadata": {},
   "outputs": [
    {
     "name": "stdout",
     "output_type": "stream",
     "text": [
      "8\n",
      "5\n",
      "3\n"
     ]
    }
   ],
   "source": [
    "a = int(input()); b = int(input());\n",
    "print (a % b)   ### Divides left hand operand by right hand operand and returns remainder"
   ]
  },
  {
   "cell_type": "markdown",
   "metadata": {},
   "source": [
    "10.What is the difference between a = b and a == b ?"
   ]
  },
  {
   "cell_type": "code",
   "execution_count": 25,
   "metadata": {},
   "outputs": [
    {
     "name": "stdout",
     "output_type": "stream",
     "text": [
      "3\n"
     ]
    }
   ],
   "source": [
    "### a = b is an Assignment Operators to Assigns value from right side operand to left side operand\n",
    "a = 3\n",
    "b = a\n",
    "print (b)"
   ]
  },
  {
   "cell_type": "code",
   "execution_count": 26,
   "metadata": {},
   "outputs": [
    {
     "name": "stdout",
     "output_type": "stream",
     "text": [
      "it's True\n"
     ]
    }
   ],
   "source": [
    "\n",
    "### a == b is Comparison Operator ### for example If the values of two operands are equal, then the condition becomes true.\n",
    "a = 3 \n",
    "b = 3\n",
    "if a == b :\n",
    "    print (\"it's True\")\n",
    "else:\n",
    "    print (\"it's Wrong\")"
   ]
  },
  {
   "cell_type": "markdown",
   "metadata": {},
   "source": [
    "                                              ###Lists"
   ]
  },
  {
   "cell_type": "markdown",
   "metadata": {},
   "source": [
    "12.Create an empty list called emptiness "
   ]
  },
  {
   "cell_type": "code",
   "execution_count": 34,
   "metadata": {},
   "outputs": [],
   "source": [
    "emptiness = [ ]  "
   ]
  },
  {
   "cell_type": "markdown",
   "metadata": {},
   "source": [
    "13.Add the numbers 2 and 34 to this list"
   ]
  },
  {
   "cell_type": "code",
   "execution_count": 41,
   "metadata": {},
   "outputs": [
    {
     "name": "stdout",
     "output_type": "stream",
     "text": [
      "[2, 34]\n"
     ]
    }
   ],
   "source": [
    "emptiness = [ ] \n",
    "emptiness.insert(0 , 2 )\n",
    "emptiness.insert(1 , 34 )\n",
    "print (emptiness) "
   ]
  },
  {
   "cell_type": "markdown",
   "metadata": {},
   "source": [
    "14.Make an empty list called x. Write a for loop that for 20 iterations will add a random number to the list and then print the list."
   ]
  },
  {
   "cell_type": "code",
   "execution_count": 3,
   "metadata": {},
   "outputs": [
    {
     "name": "stdout",
     "output_type": "stream",
     "text": [
      "[50]\n",
      "[50, 52]\n",
      "[50, 52, 57]\n",
      "[50, 52, 57, 65]\n",
      "[50, 52, 57, 65, 94]\n",
      "[50, 52, 57, 65, 94, 58]\n",
      "[50, 52, 57, 65, 94, 58, 15]\n",
      "[50, 52, 57, 65, 94, 58, 15, 78]\n",
      "[50, 52, 57, 65, 94, 58, 15, 78, 59]\n",
      "[50, 52, 57, 65, 94, 58, 15, 78, 59, 79]\n",
      "[50, 52, 57, 65, 94, 58, 15, 78, 59, 79, 40]\n",
      "[50, 52, 57, 65, 94, 58, 15, 78, 59, 79, 40, 21]\n",
      "[50, 52, 57, 65, 94, 58, 15, 78, 59, 79, 40, 21, 31]\n",
      "[50, 52, 57, 65, 94, 58, 15, 78, 59, 79, 40, 21, 31, 59]\n",
      "[50, 52, 57, 65, 94, 58, 15, 78, 59, 79, 40, 21, 31, 59, 94]\n",
      "[50, 52, 57, 65, 94, 58, 15, 78, 59, 79, 40, 21, 31, 59, 94, 8]\n",
      "[50, 52, 57, 65, 94, 58, 15, 78, 59, 79, 40, 21, 31, 59, 94, 8, 1]\n",
      "[50, 52, 57, 65, 94, 58, 15, 78, 59, 79, 40, 21, 31, 59, 94, 8, 1, 7]\n",
      "[50, 52, 57, 65, 94, 58, 15, 78, 59, 79, 40, 21, 31, 59, 94, 8, 1, 7, 93]\n",
      "[50, 52, 57, 65, 94, 58, 15, 78, 59, 79, 40, 21, 31, 59, 94, 8, 1, 7, 93, 82]\n"
     ]
    }
   ],
   "source": [
    "import random    \n",
    "x =[]    \n",
    "for i in range (20):   \n",
    "    x.append(random.randrange(1,100))\n",
    "    print (x)     "
   ]
  },
  {
   "cell_type": "code",
   "execution_count": 21,
   "metadata": {},
   "outputs": [
    {
     "name": "stdout",
     "output_type": "stream",
     "text": [
      "15 13\n"
     ]
    }
   ],
   "source": [
    "b = 2 \n",
    "y = 0\n",
    "while b < 15 :\n",
    "    b = b + 1 \n",
    "    y = y + 1 \n",
    "    \n",
    "print( b , y ) \n",
    "  "
   ]
  },
  {
   "cell_type": "code",
   "execution_count": 1,
   "metadata": {},
   "outputs": [
    {
     "name": "stdout",
     "output_type": "stream",
     "text": [
      "Number of even numbers : 4\n",
      "Number of odd numbers : 5\n"
     ]
    }
   ],
   "source": [
    "numbers = (1, 2, 3, 4, 5, 6, 7, 8, 9) \n",
    "count_odd = 0\n",
    "count_even = 0\n",
    "for x in numbers:\n",
    "        if not x % 2:\n",
    "    \t     count_even+=1\n",
    "        else:\n",
    "    \t     count_odd+=1\n",
    "print(\"Number of even numbers :\",count_even)\n",
    "print(\"Number of odd numbers :\",count_odd)"
   ]
  },
  {
   "cell_type": "code",
   "execution_count": null,
   "metadata": {},
   "outputs": [],
   "source": []
  }
 ],
 "metadata": {
  "kernelspec": {
   "display_name": "Python 3",
   "language": "python",
   "name": "python3"
  },
  "language_info": {
   "codemirror_mode": {
    "name": "ipython",
    "version": 3
   },
   "file_extension": ".py",
   "mimetype": "text/x-python",
   "name": "python",
   "nbconvert_exporter": "python",
   "pygments_lexer": "ipython3",
   "version": "3.6.4"
  }
 },
 "nbformat": 4,
 "nbformat_minor": 2
}
